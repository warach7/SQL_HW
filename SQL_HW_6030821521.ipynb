{
 "cells": [
  {
   "cell_type": "markdown",
   "metadata": {},
   "source": [
    "# Warach Changwatthanakul"
   ]
  },
  {
   "cell_type": "markdown",
   "metadata": {},
   "source": [
    "## ER Diagram"
   ]
  },
  {
   "cell_type": "code",
   "execution_count": 1,
   "metadata": {},
   "outputs": [
    {
     "data": {
      "text/html": [
       "<img src=\"https://raw.githubusercontent.com/warach7/SQL_HW/master/ER-DIAGRAM.png\"/>"
      ],
      "text/plain": [
       "<IPython.core.display.Image object>"
      ]
     },
     "execution_count": 1,
     "metadata": {},
     "output_type": "execute_result"
    }
   ],
   "source": [
    "from IPython.display import Image\n",
    "from IPython.core.display import HTML \n",
    "Image(url= \"https://raw.githubusercontent.com/warach7/SQL_HW/master/ER-DIAGRAM.png\")"
   ]
  },
  {
   "cell_type": "markdown",
   "metadata": {},
   "source": [
    "## สร้าง Database"
   ]
  },
  {
   "cell_type": "code",
   "execution_count": 2,
   "metadata": {},
   "outputs": [
    {
     "name": "stdout",
     "output_type": "stream",
     "text": [
      "Opened database successfully\n",
      "Table created successfully\n"
     ]
    }
   ],
   "source": [
    "import sqlite3\n",
    "\n",
    "conn = sqlite3.connect('SQL_HW.db')\n",
    "print(\"Opened database successfully\");\n",
    "\n",
    "conn.execute('''\n",
    "CREATE TABLE IF NOT EXISTS SENSORS (\n",
    "    ID INTEGER PRIMARY KEY NOT NULL,\n",
    "    Name CHAR(50) NOT NULL ,\n",
    "    Location CHAR(50) NOT NULL \n",
    ");''')\n",
    "\n",
    "conn.commit()\n",
    "conn.execute('''\n",
    "CREATE TABLE DATA (\n",
    "    ID INTEGER NOT NULL\n",
    "        CONSTRAINT fk_SENSORS_ID REFERENCES SENSORS(ID),\n",
    "    DATETIME CHAR(50) NOT NULL,\n",
    "    AQI REAL NOT NULL ,\n",
    "    TEMP REAL NOT NULL\n",
    "        \n",
    ");''')\n",
    "\n",
    "\n",
    "conn.commit()\n",
    "\n",
    "print(\"Table created successfully\");"
   ]
  },
  {
   "cell_type": "code",
   "execution_count": 3,
   "metadata": {},
   "outputs": [
    {
     "data": {
      "text/plain": [
       "<sqlite3.Cursor at 0x15aa484c7a0>"
      ]
     },
     "execution_count": 3,
     "metadata": {},
     "output_type": "execute_result"
    }
   ],
   "source": [
    "# INSERT SENSORS\n",
    "conn.execute(\"INSERT INTO SENSORS(ID,Name,Location) VALUES(1,'BKK','Bangkok');\")\n",
    "conn.execute(\"INSERT INTO SENSORS(ID,Name,Location) VALUES(2,'CMI','Chiang-Mai');\")\n",
    "conn.execute(\"INSERT INTO SENSORS(ID,Name,Location) VALUES(3,'PKT','Phuket');\")\n",
    "conn.execute(\"INSERT INTO SENSORS(ID,Name,Location) VALUES(4,'UBN','Ubon-Ratchathani');\")\n",
    "conn.execute(\"INSERT INTO SENSORS(ID,Name,Location) VALUES(5,'LPT','Lampang');\")\n",
    "\n",
    "# 21/09/2020 08:00 DATA\n",
    "conn.execute(\"INSERT INTO DATA(ID,DATETIME,AQI,TEMP) VALUES(1,'21/09/2020 08:00',87,30);\")\n",
    "conn.execute(\"INSERT INTO DATA(ID,DATETIME,AQI,TEMP) VALUES(2,'21/09/2020 08:00',41,25);\")\n",
    "conn.execute(\"INSERT INTO DATA(ID,DATETIME,AQI,TEMP) VALUES(3,'21/09/2020 08:00',89,28);\")\n",
    "conn.execute(\"INSERT INTO DATA(ID,DATETIME,AQI,TEMP) VALUES(4,'21/09/2020 08:00',46,27);\")\n",
    "conn.execute(\"INSERT INTO DATA(ID,DATETIME,AQI,TEMP) VALUES(5,'21/09/2020 08:00',42,26);\")\n",
    "\n",
    "# 21/09/2020 09:00 DATA\n",
    "conn.execute(\"INSERT INTO DATA(ID,DATETIME,AQI,TEMP) VALUES(1,'21/09/2020 09:00',70,30);\")\n",
    "conn.execute(\"INSERT INTO DATA(ID,DATETIME,AQI,TEMP) VALUES(2,'21/09/2020 09:00',41,26);\")\n",
    "conn.execute(\"INSERT INTO DATA(ID,DATETIME,AQI,TEMP) VALUES(3,'21/09/2020 09:00',78,28);\")\n",
    "conn.execute(\"INSERT INTO DATA(ID,DATETIME,AQI,TEMP) VALUES(4,'21/09/2020 09:00',46,27);\")\n",
    "conn.execute(\"INSERT INTO DATA(ID,DATETIME,AQI,TEMP) VALUES(5,'21/09/2020 09:00',42,25);\")\n",
    "\n",
    "# 21/09/2020 10:00 DATA\n",
    "conn.execute(\"INSERT INTO DATA(ID,DATETIME,AQI,TEMP) VALUES(1,'21/09/2020 10:00',90,30);\")\n",
    "conn.execute(\"INSERT INTO DATA(ID,DATETIME,AQI,TEMP) VALUES(2,'21/09/2020 10:00',41,28);\")\n",
    "conn.execute(\"INSERT INTO DATA(ID,DATETIME,AQI,TEMP) VALUES(3,'21/09/2020 10:00',68,27);\")\n",
    "conn.execute(\"INSERT INTO DATA(ID,DATETIME,AQI,TEMP) VALUES(4,'21/09/2020 10:00',46,27);\")\n",
    "conn.execute(\"INSERT INTO DATA(ID,DATETIME,AQI,TEMP) VALUES(5,'21/09/2020 10:00',50,25);\")"
   ]
  },
  {
   "cell_type": "markdown",
   "metadata": {},
   "source": [
    "## ทดลอง query"
   ]
  },
  {
   "cell_type": "code",
   "execution_count": 4,
   "metadata": {},
   "outputs": [
    {
     "name": "stdout",
     "output_type": "stream",
     "text": [
      "(1, 'BKK', 'Bangkok')\n",
      "(2, 'CMI', 'Chiang-Mai')\n",
      "(3, 'PKT', 'Phuket')\n",
      "(4, 'UBN', 'Ubon-Ratchathani')\n",
      "(5, 'LPT', 'Lampang')\n"
     ]
    }
   ],
   "source": [
    "for row in conn.execute(\"select * from SENSORS\"):\n",
    "  print(row)"
   ]
  },
  {
   "cell_type": "code",
   "execution_count": 5,
   "metadata": {},
   "outputs": [
    {
     "name": "stdout",
     "output_type": "stream",
     "text": [
      "(1, '21/09/2020 08:00', 87.0, 30.0)\n",
      "(2, '21/09/2020 08:00', 41.0, 25.0)\n",
      "(3, '21/09/2020 08:00', 89.0, 28.0)\n",
      "(4, '21/09/2020 08:00', 46.0, 27.0)\n",
      "(5, '21/09/2020 08:00', 42.0, 26.0)\n",
      "(1, '21/09/2020 09:00', 70.0, 30.0)\n",
      "(2, '21/09/2020 09:00', 41.0, 26.0)\n",
      "(3, '21/09/2020 09:00', 78.0, 28.0)\n",
      "(4, '21/09/2020 09:00', 46.0, 27.0)\n",
      "(5, '21/09/2020 09:00', 42.0, 25.0)\n",
      "(1, '21/09/2020 10:00', 90.0, 30.0)\n",
      "(2, '21/09/2020 10:00', 41.0, 28.0)\n",
      "(3, '21/09/2020 10:00', 68.0, 27.0)\n",
      "(4, '21/09/2020 10:00', 46.0, 27.0)\n",
      "(5, '21/09/2020 10:00', 50.0, 25.0)\n"
     ]
    }
   ],
   "source": [
    "for row in conn.execute(\"select * from DATA\"):\n",
    "  print(row)"
   ]
  },
  {
   "cell_type": "markdown",
   "metadata": {},
   "source": [
    "## เลือกตารางเชื่อมกัน"
   ]
  },
  {
   "cell_type": "code",
   "execution_count": 6,
   "metadata": {},
   "outputs": [
    {
     "data": {
      "text/plain": [
       "[(1, '21/09/2020 08:00', 87.0, 30.0, 'BKK', 'Bangkok'),\n",
       " (2, '21/09/2020 08:00', 41.0, 25.0, 'CMI', 'Chiang-Mai'),\n",
       " (3, '21/09/2020 08:00', 89.0, 28.0, 'PKT', 'Phuket'),\n",
       " (4, '21/09/2020 08:00', 46.0, 27.0, 'UBN', 'Ubon-Ratchathani'),\n",
       " (5, '21/09/2020 08:00', 42.0, 26.0, 'LPT', 'Lampang'),\n",
       " (1, '21/09/2020 09:00', 70.0, 30.0, 'BKK', 'Bangkok'),\n",
       " (2, '21/09/2020 09:00', 41.0, 26.0, 'CMI', 'Chiang-Mai'),\n",
       " (3, '21/09/2020 09:00', 78.0, 28.0, 'PKT', 'Phuket'),\n",
       " (4, '21/09/2020 09:00', 46.0, 27.0, 'UBN', 'Ubon-Ratchathani'),\n",
       " (5, '21/09/2020 09:00', 42.0, 25.0, 'LPT', 'Lampang'),\n",
       " (1, '21/09/2020 10:00', 90.0, 30.0, 'BKK', 'Bangkok'),\n",
       " (2, '21/09/2020 10:00', 41.0, 28.0, 'CMI', 'Chiang-Mai'),\n",
       " (3, '21/09/2020 10:00', 68.0, 27.0, 'PKT', 'Phuket'),\n",
       " (4, '21/09/2020 10:00', 46.0, 27.0, 'UBN', 'Ubon-Ratchathani'),\n",
       " (5, '21/09/2020 10:00', 50.0, 25.0, 'LPT', 'Lampang')]"
      ]
     },
     "execution_count": 6,
     "metadata": {},
     "output_type": "execute_result"
    }
   ],
   "source": [
    "conn.execute(\"select d.ID,d.DATETIME,d.AQI,d.TEMP,s.Name,s.Location from Data d, SENSORS s where d.ID=s.ID\").fetchall()"
   ]
  },
  {
   "cell_type": "markdown",
   "metadata": {},
   "source": [
    "## นำข้อมูลที่ได้จากการ query ไปใส่ไว้ใน dataframe ของ pandas"
   ]
  },
  {
   "cell_type": "code",
   "execution_count": 7,
   "metadata": {},
   "outputs": [],
   "source": [
    "import pandas as pd"
   ]
  },
  {
   "cell_type": "code",
   "execution_count": 8,
   "metadata": {},
   "outputs": [
    {
     "data": {
      "text/html": [
       "<div>\n",
       "<style scoped>\n",
       "    .dataframe tbody tr th:only-of-type {\n",
       "        vertical-align: middle;\n",
       "    }\n",
       "\n",
       "    .dataframe tbody tr th {\n",
       "        vertical-align: top;\n",
       "    }\n",
       "\n",
       "    .dataframe thead th {\n",
       "        text-align: right;\n",
       "    }\n",
       "</style>\n",
       "<table border=\"1\" class=\"dataframe\">\n",
       "  <thead>\n",
       "    <tr style=\"text-align: right;\">\n",
       "      <th></th>\n",
       "      <th>ID</th>\n",
       "      <th>Name</th>\n",
       "      <th>Location</th>\n",
       "    </tr>\n",
       "  </thead>\n",
       "  <tbody>\n",
       "    <tr>\n",
       "      <th>0</th>\n",
       "      <td>1</td>\n",
       "      <td>BKK</td>\n",
       "      <td>Bangkok</td>\n",
       "    </tr>\n",
       "    <tr>\n",
       "      <th>1</th>\n",
       "      <td>2</td>\n",
       "      <td>CMI</td>\n",
       "      <td>Chiang-Mai</td>\n",
       "    </tr>\n",
       "    <tr>\n",
       "      <th>2</th>\n",
       "      <td>3</td>\n",
       "      <td>PKT</td>\n",
       "      <td>Phuket</td>\n",
       "    </tr>\n",
       "    <tr>\n",
       "      <th>3</th>\n",
       "      <td>4</td>\n",
       "      <td>UBN</td>\n",
       "      <td>Ubon-Ratchathani</td>\n",
       "    </tr>\n",
       "    <tr>\n",
       "      <th>4</th>\n",
       "      <td>5</td>\n",
       "      <td>LPT</td>\n",
       "      <td>Lampang</td>\n",
       "    </tr>\n",
       "  </tbody>\n",
       "</table>\n",
       "</div>"
      ],
      "text/plain": [
       "   ID Name          Location\n",
       "0   1  BKK           Bangkok\n",
       "1   2  CMI        Chiang-Mai\n",
       "2   3  PKT            Phuket\n",
       "3   4  UBN  Ubon-Ratchathani\n",
       "4   5  LPT           Lampang"
      ]
     },
     "execution_count": 8,
     "metadata": {},
     "output_type": "execute_result"
    }
   ],
   "source": [
    "SENSORS = pd.read_sql_query(\"SELECT * from SENSORS\",conn)\n",
    "SENSORS"
   ]
  },
  {
   "cell_type": "code",
   "execution_count": 9,
   "metadata": {},
   "outputs": [
    {
     "data": {
      "text/html": [
       "<div>\n",
       "<style scoped>\n",
       "    .dataframe tbody tr th:only-of-type {\n",
       "        vertical-align: middle;\n",
       "    }\n",
       "\n",
       "    .dataframe tbody tr th {\n",
       "        vertical-align: top;\n",
       "    }\n",
       "\n",
       "    .dataframe thead th {\n",
       "        text-align: right;\n",
       "    }\n",
       "</style>\n",
       "<table border=\"1\" class=\"dataframe\">\n",
       "  <thead>\n",
       "    <tr style=\"text-align: right;\">\n",
       "      <th></th>\n",
       "      <th>ID</th>\n",
       "      <th>DATETIME</th>\n",
       "      <th>AQI</th>\n",
       "      <th>TEMP</th>\n",
       "    </tr>\n",
       "  </thead>\n",
       "  <tbody>\n",
       "    <tr>\n",
       "      <th>0</th>\n",
       "      <td>1</td>\n",
       "      <td>21/09/2020 08:00</td>\n",
       "      <td>87.0</td>\n",
       "      <td>30.0</td>\n",
       "    </tr>\n",
       "    <tr>\n",
       "      <th>1</th>\n",
       "      <td>2</td>\n",
       "      <td>21/09/2020 08:00</td>\n",
       "      <td>41.0</td>\n",
       "      <td>25.0</td>\n",
       "    </tr>\n",
       "    <tr>\n",
       "      <th>2</th>\n",
       "      <td>3</td>\n",
       "      <td>21/09/2020 08:00</td>\n",
       "      <td>89.0</td>\n",
       "      <td>28.0</td>\n",
       "    </tr>\n",
       "    <tr>\n",
       "      <th>3</th>\n",
       "      <td>4</td>\n",
       "      <td>21/09/2020 08:00</td>\n",
       "      <td>46.0</td>\n",
       "      <td>27.0</td>\n",
       "    </tr>\n",
       "    <tr>\n",
       "      <th>4</th>\n",
       "      <td>5</td>\n",
       "      <td>21/09/2020 08:00</td>\n",
       "      <td>42.0</td>\n",
       "      <td>26.0</td>\n",
       "    </tr>\n",
       "    <tr>\n",
       "      <th>5</th>\n",
       "      <td>1</td>\n",
       "      <td>21/09/2020 09:00</td>\n",
       "      <td>70.0</td>\n",
       "      <td>30.0</td>\n",
       "    </tr>\n",
       "    <tr>\n",
       "      <th>6</th>\n",
       "      <td>2</td>\n",
       "      <td>21/09/2020 09:00</td>\n",
       "      <td>41.0</td>\n",
       "      <td>26.0</td>\n",
       "    </tr>\n",
       "    <tr>\n",
       "      <th>7</th>\n",
       "      <td>3</td>\n",
       "      <td>21/09/2020 09:00</td>\n",
       "      <td>78.0</td>\n",
       "      <td>28.0</td>\n",
       "    </tr>\n",
       "    <tr>\n",
       "      <th>8</th>\n",
       "      <td>4</td>\n",
       "      <td>21/09/2020 09:00</td>\n",
       "      <td>46.0</td>\n",
       "      <td>27.0</td>\n",
       "    </tr>\n",
       "    <tr>\n",
       "      <th>9</th>\n",
       "      <td>5</td>\n",
       "      <td>21/09/2020 09:00</td>\n",
       "      <td>42.0</td>\n",
       "      <td>25.0</td>\n",
       "    </tr>\n",
       "    <tr>\n",
       "      <th>10</th>\n",
       "      <td>1</td>\n",
       "      <td>21/09/2020 10:00</td>\n",
       "      <td>90.0</td>\n",
       "      <td>30.0</td>\n",
       "    </tr>\n",
       "    <tr>\n",
       "      <th>11</th>\n",
       "      <td>2</td>\n",
       "      <td>21/09/2020 10:00</td>\n",
       "      <td>41.0</td>\n",
       "      <td>28.0</td>\n",
       "    </tr>\n",
       "    <tr>\n",
       "      <th>12</th>\n",
       "      <td>3</td>\n",
       "      <td>21/09/2020 10:00</td>\n",
       "      <td>68.0</td>\n",
       "      <td>27.0</td>\n",
       "    </tr>\n",
       "    <tr>\n",
       "      <th>13</th>\n",
       "      <td>4</td>\n",
       "      <td>21/09/2020 10:00</td>\n",
       "      <td>46.0</td>\n",
       "      <td>27.0</td>\n",
       "    </tr>\n",
       "    <tr>\n",
       "      <th>14</th>\n",
       "      <td>5</td>\n",
       "      <td>21/09/2020 10:00</td>\n",
       "      <td>50.0</td>\n",
       "      <td>25.0</td>\n",
       "    </tr>\n",
       "  </tbody>\n",
       "</table>\n",
       "</div>"
      ],
      "text/plain": [
       "    ID          DATETIME   AQI  TEMP\n",
       "0    1  21/09/2020 08:00  87.0  30.0\n",
       "1    2  21/09/2020 08:00  41.0  25.0\n",
       "2    3  21/09/2020 08:00  89.0  28.0\n",
       "3    4  21/09/2020 08:00  46.0  27.0\n",
       "4    5  21/09/2020 08:00  42.0  26.0\n",
       "5    1  21/09/2020 09:00  70.0  30.0\n",
       "6    2  21/09/2020 09:00  41.0  26.0\n",
       "7    3  21/09/2020 09:00  78.0  28.0\n",
       "8    4  21/09/2020 09:00  46.0  27.0\n",
       "9    5  21/09/2020 09:00  42.0  25.0\n",
       "10   1  21/09/2020 10:00  90.0  30.0\n",
       "11   2  21/09/2020 10:00  41.0  28.0\n",
       "12   3  21/09/2020 10:00  68.0  27.0\n",
       "13   4  21/09/2020 10:00  46.0  27.0\n",
       "14   5  21/09/2020 10:00  50.0  25.0"
      ]
     },
     "execution_count": 9,
     "metadata": {},
     "output_type": "execute_result"
    }
   ],
   "source": [
    "DATA = pd.read_sql_query(\"SELECT * from Data\",conn)\n",
    "DATA"
   ]
  },
  {
   "cell_type": "markdown",
   "metadata": {},
   "source": [
    "## เชื่อมตารางและแสดงผลด้วย pandas"
   ]
  },
  {
   "cell_type": "code",
   "execution_count": 10,
   "metadata": {},
   "outputs": [
    {
     "data": {
      "text/html": [
       "<div>\n",
       "<style scoped>\n",
       "    .dataframe tbody tr th:only-of-type {\n",
       "        vertical-align: middle;\n",
       "    }\n",
       "\n",
       "    .dataframe tbody tr th {\n",
       "        vertical-align: top;\n",
       "    }\n",
       "\n",
       "    .dataframe thead th {\n",
       "        text-align: right;\n",
       "    }\n",
       "</style>\n",
       "<table border=\"1\" class=\"dataframe\">\n",
       "  <thead>\n",
       "    <tr style=\"text-align: right;\">\n",
       "      <th></th>\n",
       "      <th>ID</th>\n",
       "      <th>DATETIME</th>\n",
       "      <th>AQI</th>\n",
       "      <th>TEMP</th>\n",
       "      <th>Name</th>\n",
       "      <th>Location</th>\n",
       "    </tr>\n",
       "  </thead>\n",
       "  <tbody>\n",
       "    <tr>\n",
       "      <th>0</th>\n",
       "      <td>1</td>\n",
       "      <td>21/09/2020 08:00</td>\n",
       "      <td>87.0</td>\n",
       "      <td>30.0</td>\n",
       "      <td>BKK</td>\n",
       "      <td>Bangkok</td>\n",
       "    </tr>\n",
       "    <tr>\n",
       "      <th>1</th>\n",
       "      <td>1</td>\n",
       "      <td>21/09/2020 09:00</td>\n",
       "      <td>70.0</td>\n",
       "      <td>30.0</td>\n",
       "      <td>BKK</td>\n",
       "      <td>Bangkok</td>\n",
       "    </tr>\n",
       "    <tr>\n",
       "      <th>2</th>\n",
       "      <td>1</td>\n",
       "      <td>21/09/2020 10:00</td>\n",
       "      <td>90.0</td>\n",
       "      <td>30.0</td>\n",
       "      <td>BKK</td>\n",
       "      <td>Bangkok</td>\n",
       "    </tr>\n",
       "    <tr>\n",
       "      <th>3</th>\n",
       "      <td>2</td>\n",
       "      <td>21/09/2020 08:00</td>\n",
       "      <td>41.0</td>\n",
       "      <td>25.0</td>\n",
       "      <td>CMI</td>\n",
       "      <td>Chiang-Mai</td>\n",
       "    </tr>\n",
       "    <tr>\n",
       "      <th>4</th>\n",
       "      <td>2</td>\n",
       "      <td>21/09/2020 09:00</td>\n",
       "      <td>41.0</td>\n",
       "      <td>26.0</td>\n",
       "      <td>CMI</td>\n",
       "      <td>Chiang-Mai</td>\n",
       "    </tr>\n",
       "    <tr>\n",
       "      <th>5</th>\n",
       "      <td>2</td>\n",
       "      <td>21/09/2020 10:00</td>\n",
       "      <td>41.0</td>\n",
       "      <td>28.0</td>\n",
       "      <td>CMI</td>\n",
       "      <td>Chiang-Mai</td>\n",
       "    </tr>\n",
       "    <tr>\n",
       "      <th>6</th>\n",
       "      <td>3</td>\n",
       "      <td>21/09/2020 08:00</td>\n",
       "      <td>89.0</td>\n",
       "      <td>28.0</td>\n",
       "      <td>PKT</td>\n",
       "      <td>Phuket</td>\n",
       "    </tr>\n",
       "    <tr>\n",
       "      <th>7</th>\n",
       "      <td>3</td>\n",
       "      <td>21/09/2020 09:00</td>\n",
       "      <td>78.0</td>\n",
       "      <td>28.0</td>\n",
       "      <td>PKT</td>\n",
       "      <td>Phuket</td>\n",
       "    </tr>\n",
       "    <tr>\n",
       "      <th>8</th>\n",
       "      <td>3</td>\n",
       "      <td>21/09/2020 10:00</td>\n",
       "      <td>68.0</td>\n",
       "      <td>27.0</td>\n",
       "      <td>PKT</td>\n",
       "      <td>Phuket</td>\n",
       "    </tr>\n",
       "    <tr>\n",
       "      <th>9</th>\n",
       "      <td>4</td>\n",
       "      <td>21/09/2020 08:00</td>\n",
       "      <td>46.0</td>\n",
       "      <td>27.0</td>\n",
       "      <td>UBN</td>\n",
       "      <td>Ubon-Ratchathani</td>\n",
       "    </tr>\n",
       "    <tr>\n",
       "      <th>10</th>\n",
       "      <td>4</td>\n",
       "      <td>21/09/2020 09:00</td>\n",
       "      <td>46.0</td>\n",
       "      <td>27.0</td>\n",
       "      <td>UBN</td>\n",
       "      <td>Ubon-Ratchathani</td>\n",
       "    </tr>\n",
       "    <tr>\n",
       "      <th>11</th>\n",
       "      <td>4</td>\n",
       "      <td>21/09/2020 10:00</td>\n",
       "      <td>46.0</td>\n",
       "      <td>27.0</td>\n",
       "      <td>UBN</td>\n",
       "      <td>Ubon-Ratchathani</td>\n",
       "    </tr>\n",
       "    <tr>\n",
       "      <th>12</th>\n",
       "      <td>5</td>\n",
       "      <td>21/09/2020 08:00</td>\n",
       "      <td>42.0</td>\n",
       "      <td>26.0</td>\n",
       "      <td>LPT</td>\n",
       "      <td>Lampang</td>\n",
       "    </tr>\n",
       "    <tr>\n",
       "      <th>13</th>\n",
       "      <td>5</td>\n",
       "      <td>21/09/2020 09:00</td>\n",
       "      <td>42.0</td>\n",
       "      <td>25.0</td>\n",
       "      <td>LPT</td>\n",
       "      <td>Lampang</td>\n",
       "    </tr>\n",
       "    <tr>\n",
       "      <th>14</th>\n",
       "      <td>5</td>\n",
       "      <td>21/09/2020 10:00</td>\n",
       "      <td>50.0</td>\n",
       "      <td>25.0</td>\n",
       "      <td>LPT</td>\n",
       "      <td>Lampang</td>\n",
       "    </tr>\n",
       "  </tbody>\n",
       "</table>\n",
       "</div>"
      ],
      "text/plain": [
       "    ID          DATETIME   AQI  TEMP Name          Location\n",
       "0    1  21/09/2020 08:00  87.0  30.0  BKK           Bangkok\n",
       "1    1  21/09/2020 09:00  70.0  30.0  BKK           Bangkok\n",
       "2    1  21/09/2020 10:00  90.0  30.0  BKK           Bangkok\n",
       "3    2  21/09/2020 08:00  41.0  25.0  CMI        Chiang-Mai\n",
       "4    2  21/09/2020 09:00  41.0  26.0  CMI        Chiang-Mai\n",
       "5    2  21/09/2020 10:00  41.0  28.0  CMI        Chiang-Mai\n",
       "6    3  21/09/2020 08:00  89.0  28.0  PKT            Phuket\n",
       "7    3  21/09/2020 09:00  78.0  28.0  PKT            Phuket\n",
       "8    3  21/09/2020 10:00  68.0  27.0  PKT            Phuket\n",
       "9    4  21/09/2020 08:00  46.0  27.0  UBN  Ubon-Ratchathani\n",
       "10   4  21/09/2020 09:00  46.0  27.0  UBN  Ubon-Ratchathani\n",
       "11   4  21/09/2020 10:00  46.0  27.0  UBN  Ubon-Ratchathani\n",
       "12   5  21/09/2020 08:00  42.0  26.0  LPT           Lampang\n",
       "13   5  21/09/2020 09:00  42.0  25.0  LPT           Lampang\n",
       "14   5  21/09/2020 10:00  50.0  25.0  LPT           Lampang"
      ]
     },
     "execution_count": 10,
     "metadata": {},
     "output_type": "execute_result"
    }
   ],
   "source": [
    "dataframe = pd.merge(DATA, SENSORS, on = 'ID')\n",
    "dataframe"
   ]
  },
  {
   "cell_type": "code",
   "execution_count": null,
   "metadata": {},
   "outputs": [],
   "source": []
  }
 ],
 "metadata": {
  "kernelspec": {
   "display_name": "Python 3",
   "language": "python",
   "name": "python3"
  },
  "language_info": {
   "codemirror_mode": {
    "name": "ipython",
    "version": 3
   },
   "file_extension": ".py",
   "mimetype": "text/x-python",
   "name": "python",
   "nbconvert_exporter": "python",
   "pygments_lexer": "ipython3",
   "version": "3.8.3"
  }
 },
 "nbformat": 4,
 "nbformat_minor": 4
}
